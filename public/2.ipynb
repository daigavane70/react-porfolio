{
  "cells": [
    {
      "cell_type": "markdown",
      "metadata": {
        "id": "alXe8l5FZMTD"
      },
      "source": [
        "## Assignment 2\n",
        "### Name: Vedant Daigavane\n",
        "### Roll NO: 433116\n",
        "### Batch: P9"
      ]
    },
    {
      "cell_type": "markdown",
      "metadata": {
        "id": "h4r6NekdZljO"
      },
      "source": [
        "### 1. import the necessary packages"
      ]
    },
    {
      "cell_type": "code",
      "execution_count": null,
      "metadata": {
        "id": "zSf71UhmZHIB"
      },
      "outputs": [],
      "source": [
        "from sklearn.preprocessing import LabelBinarizer\n",
        "from sklearn.metrics import classification_report\n",
        "from tensorflow.keras.models import Sequential\n",
        "from tensorflow.keras.layers import Dense\n",
        "from tensorflow.keras.optimizers import SGD\n",
        "from tensorflow.keras.datasets import mnist\n",
        "from tensorflow.keras import backend as K\n",
        "import matplotlib.pyplot as plt\n",
        "import numpy as np\n",
        "import argparse"
      ]
    },
    {
      "cell_type": "markdown",
      "metadata": {
        "id": "6ONu0PPeZrPk"
      },
      "source": [
        "### 2. Grab the MNIST dataset "
      ]
    },
    {
      "cell_type": "code",
      "execution_count": null,
      "metadata": {
        "colab": {
          "base_uri": "https://localhost:8080/"
        },
        "id": "6MfH9sQMZPGd",
        "outputId": "847fbba9-4292-4dc2-ccda-6c09ede37004"
      },
      "outputs": [
        {
          "name": "stdout",
          "output_type": "stream",
          "text": [
            "Accessing MNIST...\n"
          ]
        }
      ],
      "source": [
        "print(\"Accessing MNIST...\")\n",
        "((trainX, trainY), (testX, testY)) = mnist.load_data()\n",
        "\n",
        "# each image in the MNIST dataset is represented as a 28x28x1 image, but in order to apply a standard neural network we must first \"flatten\" the image to be simple list of 28x28=784 pixels\n",
        "trainX = trainX.reshape((trainX.shape[0], 28 * 28 * 1))\n",
        "testX = testX.reshape((testX.shape[0], 28 * 28 * 1))\n",
        "\n",
        "# scale data to the range of [0, 1]\n",
        "trainX = trainX.astype(\"float32\") / 255.0\n",
        "testX = testX.astype(\"float32\") / 255.0\n",
        "\n",
        "# convert the labels from integers to vectors\n",
        "le = LabelBinarizer()\n",
        "trainY = le.fit_transform(trainY)\n",
        "testY = le.transform(testY)"
      ]
    },
    {
      "cell_type": "markdown",
      "metadata": {
        "id": "GGm75yDRZwQF"
      },
      "source": [
        "### 3. Feed forward Neural Network"
      ]
    },
    {
      "cell_type": "code",
      "execution_count": null,
      "metadata": {
        "id": "SoXFWFRXZVkL"
      },
      "outputs": [],
      "source": [
        "model = Sequential()\n",
        "model.add(Dense(256, input_shape=(784,), activation=\"sigmoid\"))\n",
        "model.add(Dense(128, activation=\"sigmoid\"))\n",
        "model.add(Dense(10, activation=\"softmax\"))"
      ]
    },
    {
      "cell_type": "markdown",
      "metadata": {
        "id": "Yu6lPraUZ1fq"
      },
      "source": [
        "### 4. Adding SGD optimizer and training"
      ]
    },
    {
      "cell_type": "code",
      "execution_count": null,
      "metadata": {
        "colab": {
          "base_uri": "https://localhost:8080/"
        },
        "id": "75gymNbaZYyo",
        "outputId": "de75e225-73a9-43f0-c2fc-cdb2640a6527"
      },
      "outputs": [
        {
          "name": "stdout",
          "output_type": "stream",
          "text": [
            "Epoch 1/10\n",
            "469/469 [==============================] - 4s 9ms/step - loss: 0.5431 - accuracy: 0.8613 - val_loss: 0.5189 - val_accuracy: 0.8682\n",
            "Epoch 2/10\n",
            "469/469 [==============================] - 3s 7ms/step - loss: 0.5234 - accuracy: 0.8648 - val_loss: 0.4999 - val_accuracy: 0.8705\n",
            "Epoch 3/10\n",
            "469/469 [==============================] - 4s 8ms/step - loss: 0.5060 - accuracy: 0.8682 - val_loss: 0.4843 - val_accuracy: 0.8733\n",
            "Epoch 4/10\n",
            "469/469 [==============================] - 4s 8ms/step - loss: 0.4906 - accuracy: 0.8718 - val_loss: 0.4695 - val_accuracy: 0.8761\n",
            "Epoch 5/10\n",
            "469/469 [==============================] - 5s 11ms/step - loss: 0.4769 - accuracy: 0.8745 - val_loss: 0.4564 - val_accuracy: 0.8795\n",
            "Epoch 6/10\n",
            "469/469 [==============================] - 4s 9ms/step - loss: 0.4646 - accuracy: 0.8776 - val_loss: 0.4449 - val_accuracy: 0.8823\n",
            "Epoch 7/10\n",
            "469/469 [==============================] - 4s 7ms/step - loss: 0.4534 - accuracy: 0.8799 - val_loss: 0.4345 - val_accuracy: 0.8842\n",
            "Epoch 8/10\n",
            "469/469 [==============================] - 4s 8ms/step - loss: 0.4434 - accuracy: 0.8813 - val_loss: 0.4247 - val_accuracy: 0.8857\n",
            "Epoch 9/10\n",
            "469/469 [==============================] - 4s 9ms/step - loss: 0.4342 - accuracy: 0.8828 - val_loss: 0.4164 - val_accuracy: 0.8874\n",
            "Epoch 10/10\n",
            "469/469 [==============================] - 4s 8ms/step - loss: 0.4259 - accuracy: 0.8853 - val_loss: 0.4083 - val_accuracy: 0.8900\n"
          ]
        }
      ],
      "source": [
        "# Adding optimizer\n",
        "sgd = SGD(0.01) ## Learning rate is 0.01\n",
        "\n",
        "# Fitting and training\n",
        "model.compile(loss=\"categorical_crossentropy\", optimizer=sgd,\n",
        "\tmetrics=[\"accuracy\"])\n",
        "H = model.fit(trainX, trainY, validation_data=(testX, testY),\n",
        "\tepochs=10, batch_size=128)"
      ]
    },
    {
      "cell_type": "code",
      "execution_count": null,
      "metadata": {
        "colab": {
          "base_uri": "https://localhost:8080/"
        },
        "id": "-g8SSNmSZcAY",
        "outputId": "0d05fcb7-5d54-42e9-c438-cdbfe6c0ead6"
      },
      "outputs": [
        {
          "name": "stdout",
          "output_type": "stream",
          "text": [
            "Model: \"sequential\"\n",
            "_________________________________________________________________\n",
            " Layer (type)                Output Shape              Param #   \n",
            "=================================================================\n",
            " dense (Dense)               (None, 256)               200960    \n",
            "                                                                 \n",
            " dense_1 (Dense)             (None, 128)               32896     \n",
            "                                                                 \n",
            " dense_2 (Dense)             (None, 10)                1290      \n",
            "                                                                 \n",
            "=================================================================\n",
            "Total params: 235,146\n",
            "Trainable params: 235,146\n",
            "Non-trainable params: 0\n",
            "_________________________________________________________________\n",
            "None\n"
          ]
        }
      ],
      "source": [
        "print(model.summary())"
      ]
    },
    {
      "cell_type": "markdown",
      "metadata": {
        "id": "S-YGWU7XZ-QA"
      },
      "source": [
        "### 5. Evaluating the model"
      ]
    },
    {
      "cell_type": "code",
      "execution_count": null,
      "metadata": {
        "colab": {
          "base_uri": "https://localhost:8080/"
        },
        "id": "TdvdIWNeZeYy",
        "outputId": "578c6830-4272-439d-b675-197e940fe375"
      },
      "outputs": [
        {
          "name": "stdout",
          "output_type": "stream",
          "text": [
            "79/79 [==============================] - 0s 4ms/step\n",
            "              precision    recall  f1-score   support\n",
            "\n",
            "           0       0.92      0.97      0.94       980\n",
            "           1       0.94      0.97      0.96      1135\n",
            "           2       0.90      0.86      0.88      1032\n",
            "           3       0.87      0.89      0.88      1010\n",
            "           4       0.88      0.91      0.89       982\n",
            "           5       0.85      0.80      0.83       892\n",
            "           6       0.90      0.91      0.91       958\n",
            "           7       0.90      0.89      0.90      1028\n",
            "           8       0.87      0.83      0.85       974\n",
            "           9       0.87      0.84      0.86      1009\n",
            "\n",
            "    accuracy                           0.89     10000\n",
            "   macro avg       0.89      0.89      0.89     10000\n",
            "weighted avg       0.89      0.89      0.89     10000\n",
            "\n"
          ]
        }
      ],
      "source": [
        "predictions = model.predict(testX, batch_size=128)\n",
        "print(classification_report(testY.argmax(axis=1),\n",
        "\tpredictions.argmax(axis=1),\n",
        "\ttarget_names=[str(x) for x in le.classes_]))"
      ]
    },
    {
      "cell_type": "markdown",
      "metadata": {
        "id": "4VFnUZmraEQh"
      },
      "source": [
        "### 6. Plotting training loss and accuracy"
      ]
    },
    {
      "cell_type": "code",
      "execution_count": null,
      "metadata": {
        "colab": {
          "base_uri": "https://localhost:8080/",
          "height": 316
        },
        "id": "lOso-M3ZZgIR",
        "outputId": "2ea8d9b6-77c6-477b-f763-5ac6fac1d49a"
      },
      "outputs": [
        {
          "data": {
            "text/plain": [
              "<matplotlib.legend.Legend at 0x7f2084636d10>"
            ]
          },
          "execution_count": 23,
          "metadata": {},
          "output_type": "execute_result"
        },
        {
          "data": {
            "image/png": "[encoded data removed]",
            "text/plain": [
              "<Figure size 432x288 with 1 Axes>"
            ]
          },
          "metadata": {},
          "output_type": "display_data"
        }
      ],
      "source": [
        "# plot the training loss and accuracy\n",
        "plt.style.use(\"ggplot\")\n",
        "plt.figure()\n",
        "plt.plot(H.epoch, H.history[\"loss\"], label=\"train_loss\")\n",
        "plt.plot(H.epoch, H.history[\"val_loss\"], label=\"val_loss\")\n",
        "plt.plot(H.epoch, H.history[\"accuracy\"], label=\"train_acc\")\n",
        "plt.plot(H.epoch, H.history[\"val_accuracy\"], label=\"val_acc\")\n",
        "plt.title(\"Training Loss and Accuracy\")\n",
        "plt.xlabel(\"Epoch #\")\n",
        "plt.ylabel(\"Loss/Accuracy\")\n",
        "plt.legend()"
      ]
    },
    {
      "cell_type": "code",
      "execution_count": null,
      "metadata": {
        "id": "aVcMmScZse_w"
      },
      "outputs": [],
      "source": []
    }
  ],
  "metadata": {
    "colab": {
      "collapsed_sections": [],
      "provenance": []
    },
    "kernelspec": {
      "display_name": "Python 3.10.6 64-bit",
      "language": "python",
      "name": "python3"
    },
    "language_info": {
      "name": "python",
      "version": "3.10.7"
    },
    "vscode": {
      "interpreter": {
        "hash": "aee8b7b246df8f9039afb4144a1f6fd8d2ca17a180786b69acc140d282b71a49"
      }
    }
  },
  "nbformat": 4,
  "nbformat_minor": 0
}
